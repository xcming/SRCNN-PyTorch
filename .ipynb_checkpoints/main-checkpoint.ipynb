{
 "cells": [
  {
   "cell_type": "code",
   "execution_count": null,
   "metadata": {},
   "outputs": [],
   "source": [
    "import Ipynb_importer\n",
    "from model import run_train\n",
    "from model import run_test\n",
    "import time\n",
    "import datetime"
   ]
  },
  {
   "cell_type": "code",
   "execution_count": null,
   "metadata": {},
   "outputs": [],
   "source": [
    "#train params\n",
    "path = './Train/'\n",
    "image_size = 33\n",
    "label_size = 21\n",
    "stride = 14\n",
    "scale = 3\n",
    "epoch = 10000\n",
    "cuda = True\n",
    "is_gray = True\n",
    "\n",
    "#test params\n",
    "read_path = './Test/Set14/'\n",
    "save_path = './result/Set14/'\n",
    "read_path2 = './Test/Set5/'\n",
    "save_path2 = './result/Set5/'\n",
    "scale = 3\n",
    "cuda = True\n",
    "\n",
    "if __name__ == '__main__':\n",
    "    \n",
    "#     time_start=time.time()\n",
    "    time_start = datetime.datetime.now()\n",
    "    \n",
    "    run_train(path, image_size, label_size, stride, scale, epoch, cuda)\n",
    "    \n",
    "    print('------------------------------------------')\n",
    "    \n",
    "#     time_end=time.time()\n",
    "    time_end = datetime.datetime.now()\n",
    "    print('训练时间',time_end-time_start)\n",
    "    \n",
    "    print('-------------------------------------------')\n",
    "    \n",
    "    run_test(read_path, save_path, scale, cuda)\n",
    "    run_test(read_path2, save_path2, scale, cuda)\n",
    "    \n",
    "    print('-------------------------------------------')\n",
    "    \n",
    "    time_end2 = datetime.datetime.now()\n",
    "    print('测试时间',time_end2-time_end)\n"
   ]
  }
 ],
 "metadata": {
  "kernelspec": {
   "display_name": "Python 3",
   "language": "python",
   "name": "python3"
  },
  "language_info": {
   "codemirror_mode": {
    "name": "ipython",
    "version": 3
   },
   "file_extension": ".py",
   "mimetype": "text/x-python",
   "name": "python",
   "nbconvert_exporter": "python",
   "pygments_lexer": "ipython3",
   "version": "3.6.4"
  }
 },
 "nbformat": 4,
 "nbformat_minor": 2
}
